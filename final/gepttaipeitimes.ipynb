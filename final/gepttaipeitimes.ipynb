{
 "cells": [
  {
   "cell_type": "code",
   "execution_count": 1,
   "metadata": {
    "collapsed": false
   },
   "outputs": [
    {
     "data": {
      "text/html": [
       "<div>\n",
       "<table border=\"1\" class=\"dataframe\">\n",
       "  <thead>\n",
       "    <tr style=\"text-align: right;\">\n",
       "      <th></th>\n",
       "      <th>article</th>\n",
       "      <th>rating</th>\n",
       "    </tr>\n",
       "  </thead>\n",
       "  <tbody>\n",
       "    <tr>\n",
       "      <th>63</th>\n",
       "      <td>Don't miss this once-in-a-lifetime opportunity...</td>\n",
       "      <td>2</td>\n",
       "    </tr>\n",
       "    <tr>\n",
       "      <th>247</th>\n",
       "      <td>With millions graduating from college each yea...</td>\n",
       "      <td>1</td>\n",
       "    </tr>\n",
       "    <tr>\n",
       "      <th>293</th>\n",
       "      <td>During one such meeting they decided to give t...</td>\n",
       "      <td>1</td>\n",
       "    </tr>\n",
       "  </tbody>\n",
       "</table>\n",
       "</div>"
      ],
      "text/plain": [
       "                                               article  rating\n",
       "63   Don't miss this once-in-a-lifetime opportunity...       2\n",
       "247  With millions graduating from college each yea...       1\n",
       "293  During one such meeting they decided to give t...       1"
      ]
     },
     "execution_count": 1,
     "metadata": {},
     "output_type": "execute_result"
    }
   ],
   "source": [
    "import numpy as np\n",
    "import pandas as pd\n",
    "\n",
    "np.random.seed(0)\n",
    "df = pd.read_csv('./data/gept-3.csv',encoding = \"ISO-8859-1\")  # \n",
    "\n",
    "df = df.reindex(np.random.permutation(df.index))  # 打亂 df 的排序 np.random.permutation()\n",
    "\n",
    "df.head(3)"
   ]
  },
  {
   "cell_type": "code",
   "execution_count": 2,
   "metadata": {
    "collapsed": true
   },
   "outputs": [],
   "source": [
    "# 詞袋模型: 句子 -> 單字 -> 詞袋(稀疏矩陣)\n",
    "import numpy as np\n",
    "from sklearn.feature_extraction.text import CountVectorizer\n",
    "count = CountVectorizer()"
   ]
  },
  {
   "cell_type": "code",
   "execution_count": 3,
   "metadata": {
    "collapsed": true
   },
   "outputs": [],
   "source": [
    "# 計算 TF-IDF, 使用 L2正規化 \n",
    "from sklearn.feature_extraction.text import TfidfTransformer\n",
    "\n",
    "tfidf = TfidfTransformer(use_idf=True, norm='l2', smooth_idf=True)"
   ]
  },
  {
   "cell_type": "code",
   "execution_count": 4,
   "metadata": {
    "collapsed": true
   },
   "outputs": [],
   "source": [
    "# 文件清理\n",
    "# 用正規表示式\n",
    "import re\n",
    "def preprocessor(text):\n",
    "    text = re.sub('<[^>]*>', '', text) # 清除 HTML\n",
    "    emoticons = re.findall('(?::|;|=)(?:-)?(?:\\)|\\(|D|P)', text) # 清除 標點符號\n",
    "    text = re.sub('[\\W]+', ' ', text.lower()) + \\\n",
    "           ' '.join(emoticons).replace('-', '') # 非字元符號, - \n",
    "    return text"
   ]
  },
  {
   "cell_type": "code",
   "execution_count": 5,
   "metadata": {
    "collapsed": false
   },
   "outputs": [
    {
     "name": "stdout",
     "output_type": "stream",
     "text": [
      "63     Don't miss this once-in-a-lifetime opportunity...\n",
      "247    With millions graduating from college each yea...\n",
      "293    During one such meeting they decided to give t...\n",
      "124    I hope to do as much swimming this summer as I...\n",
      "188    Neil: Are you psyched? Ashley: About what? Nei...\n",
      "144    On Aug 14th, huge, fiery blasts at a warehouse...\n",
      "299    For now, the lights still cost more than the a...\n",
      "65     In public service lectures, fire fighters not ...\n",
      "26     Nancy gained four kilograms during the holiday...\n",
      "66     After the police arrive, they will begin to in...\n",
      "280    \"I work well under pressure because I use the ...\n",
      "90     Taroko Gorge, a well-known scenic spot, is loc...\n",
      "213    Walter Cronkite, who died on July 17, became k...\n",
      "55     According to newspaper reports, flooding in th...\n",
      "22     After we ate the fried chicken, our fingers we...\n",
      "200    I'm hoping ......the boy hesitated, fumbling i...\n",
      "238    The ants' story began a little over a ago, in ...\n",
      "230    Teddy, 77, is a figure not just in the Democra...\n",
      "219    Newsmen working election night 1964 at CBS inc...\n",
      "246    Guan found a couple of gigs, but nothing well-...\n",
      "Name: article, dtype: object\n"
     ]
    }
   ],
   "source": [
    "# 所有文本清除前\n",
    "print(df['article'].head(20))"
   ]
  },
  {
   "cell_type": "code",
   "execution_count": 6,
   "metadata": {
    "collapsed": false
   },
   "outputs": [
    {
     "name": "stdout",
     "output_type": "stream",
     "text": [
      "63     don t miss this once in a lifetime opportunity...\n",
      "247    with millions graduating from college each yea...\n",
      "293    during one such meeting they decided to give t...\n",
      "124    i hope to do as much swimming this summer as i...\n",
      "188    neil are you psyched ashley about what neil as...\n",
      "144    on aug 14th huge fiery blasts at a warehouse f...\n",
      "299    for now the lights still cost more than the av...\n",
      "65     in public service lectures fire fighters not o...\n",
      "26     nancy gained four kilograms during the holiday...\n",
      "66     after the police arrive they will begin to int...\n",
      "280     i work well under pressure because i use the ...\n",
      "90     taroko gorge a well known scenic spot is locat...\n",
      "213    walter cronkite who died on july 17 became kno...\n",
      "55     according to newspaper reports flooding in the...\n",
      "22     after we ate the fried chicken our fingers wer...\n",
      "200    i m hoping the boy hesitated fumbling in his p...\n",
      "238    the ants story began a little over a ago in 19...\n",
      "230    teddy 77 is a figure not just in the democrati...\n",
      "219    newsmen working election night 1964 at cbs inc...\n",
      "246    guan found a couple of gigs but nothing well p...\n",
      "Name: article, dtype: object\n"
     ]
    }
   ],
   "source": [
    "# 所有文本清除後\n",
    "df['article'] = df['article'].apply(preprocessor)\n",
    "print(df['article'].head(20))"
   ]
  },
  {
   "cell_type": "code",
   "execution_count": 7,
   "metadata": {
    "collapsed": true
   },
   "outputs": [],
   "source": [
    "# 文件轉為字符\n",
    "from nltk.stem.porter import PorterStemmer\n",
    "\n",
    "porter = PorterStemmer()\n",
    "\n",
    "def tokenizer(text):  # 方法1. 空白字元斷字\n",
    "    text = re.sub('<[^>]*>', '', text) # 清除 HTML\n",
    "    emoticons = re.findall('(?::|;|=)(?:-)?(?:\\)|\\(|D|P)', text) # 清除 標點符號\n",
    "    text = re.sub('[\\W]+', ' ', text.lower()) + \\\n",
    "           ' '.join(emoticons).replace('-', '') # 非字元符號, - \n",
    "    \n",
    "    #text = re.sub('<[^>]*>', '', text)\n",
    "    #emoticons = re.findall('(?::|;|=)(?:-)?(?:\\)|\\(|D|P)', text.lower())\n",
    "    #text = re.sub('[\\W]+', ' ', text.lower()) + ' '.join(emoticons).replace('-', '')\n",
    "    tokenized = [w for w in text.split() if w not in stop]\n",
    "    return tokenized\n",
    "    #return text.split()\n",
    "def tokenizer_porter(text): # 方法2. 字詞 -> 字根\n",
    "    tokenized=[porter.stem(word) for word in text.split()]\n",
    "    return tokenized"
   ]
  },
  {
   "cell_type": "code",
   "execution_count": 8,
   "metadata": {
    "collapsed": false
   },
   "outputs": [
    {
     "name": "stdout",
     "output_type": "stream",
     "text": [
      "[nltk_data] Downloading package stopwords to /Users/m/nltk_data...\n",
      "[nltk_data]   Package stopwords is already up-to-date!\n"
     ]
    }
   ],
   "source": [
    "# 命令提示字元 執行 pip install nltk\n",
    "# 處理停用字(常見但又無用的字, is and or...)\n",
    "import nltk\n",
    "nltk.download('stopwords')\n",
    "\n",
    "# 使用英文停用字集\n",
    "from nltk.corpus import stopwords\n",
    "stop = stopwords.words('english')"
   ]
  },
  {
   "cell_type": "code",
   "execution_count": 9,
   "metadata": {
    "collapsed": false
   },
   "outputs": [
    {
     "data": {
      "text/html": [
       "<div>\n",
       "<table border=\"1\" class=\"dataframe\">\n",
       "  <thead>\n",
       "    <tr style=\"text-align: right;\">\n",
       "      <th></th>\n",
       "      <th>article</th>\n",
       "      <th>rating</th>\n",
       "    </tr>\n",
       "  </thead>\n",
       "  <tbody>\n",
       "    <tr>\n",
       "      <th>145</th>\n",
       "      <td>STOCKSEarnings report boosts SonySony Corp sha...</td>\n",
       "      <td>1</td>\n",
       "    </tr>\n",
       "    <tr>\n",
       "      <th>345</th>\n",
       "      <td>Traditional May 1 union marches turned violent...</td>\n",
       "      <td>1</td>\n",
       "    </tr>\n",
       "    <tr>\n",
       "      <th>271</th>\n",
       "      <td>Antonio Conte on Sunday warned Chelsea not to ...</td>\n",
       "      <td>1</td>\n",
       "    </tr>\n",
       "  </tbody>\n",
       "</table>\n",
       "</div>"
      ],
      "text/plain": [
       "                                               article  rating\n",
       "145  STOCKSEarnings report boosts SonySony Corp sha...       1\n",
       "345  Traditional May 1 union marches turned violent...       1\n",
       "271  Antonio Conte on Sunday warned Chelsea not to ...       1"
      ]
     },
     "execution_count": 9,
     "metadata": {},
     "output_type": "execute_result"
    }
   ],
   "source": [
    "import numpy as np\n",
    "import pandas as pd\n",
    "\n",
    "np.random.seed(0)\n",
    "dftp = pd.read_csv('./data/taipei.csv',encoding = \"ISO-8859-1\")  # \n",
    "\n",
    "dftp = dftp.reindex(np.random.permutation(dftp.index))  # 打亂 df 的排序 np.random.permutation()\n",
    "\n",
    "dftp.head(3)"
   ]
  },
  {
   "cell_type": "code",
   "execution_count": 10,
   "metadata": {
    "collapsed": false
   },
   "outputs": [
    {
     "name": "stdout",
     "output_type": "stream",
     "text": [
      "145    STOCKSEarnings report boosts SonySony Corp sha...\n",
      "345    Traditional May 1 union marches turned violent...\n",
      "271    Antonio Conte on Sunday warned Chelsea not to ...\n",
      "14     More than 50 firms listed on the local main bo...\n",
      "230    A: Whose idea was it to go to the shopping mal...\n",
      "451    A regulation requiring that amateur radio oper...\n",
      "718    Taipei resident Ho Po-han (????????°) on Tuesd...\n",
      "771    A global cyberattack leveraging hacking tools ...\n",
      "447    When President Tsai Ing-wen (?????±???) first ...\n",
      "142    Mass-media company 21st Century Fox Inc is in ...\n",
      "31     In February, former Executive Yuan director-ge...\n",
      "740    The Executive Yuan yesterday approved two draf...\n",
      "285    Chaz Wing was 12 when they cornered him in the...\n",
      "693    The Executive Yuan yesterday approved two draf...\n",
      "294    Chinese Nationalist Party (KMT) lawmakers yest...\n",
      "210    North Korea observers have long marveled at th...\n",
      "735    A legislative review of draft acts to reform t...\n",
      "590    The Executive Yuan yesterday said 98 governmen...\n",
      "337    A shot from the point by Washington???s Kevin ...\n",
      "671    A: Welcome back. How was your holiday in the P...\n",
      "Name: article, dtype: object\n"
     ]
    }
   ],
   "source": [
    "# 所有文本清除前\n",
    "print(dftp['article'].head(20))"
   ]
  },
  {
   "cell_type": "code",
   "execution_count": 11,
   "metadata": {
    "collapsed": false
   },
   "outputs": [
    {
     "name": "stdout",
     "output_type": "stream",
     "text": [
      "145    stocksearnings report boosts sonysony corp sha...\n",
      "345    traditional may 1 union marches turned violent...\n",
      "271    antonio conte on sunday warned chelsea not to ...\n",
      "14     more than 50 firms listed on the local main bo...\n",
      "230    a whose idea was it to go to the shopping mall...\n",
      "451    a regulation requiring that amateur radio oper...\n",
      "718    taipei resident ho po han on tuesday vowed to ...\n",
      "771    a global cyberattack leveraging hacking tools ...\n",
      "447    when president tsai ing wen first started teac...\n",
      "142    mass media company 21st century fox inc is in ...\n",
      "31     in february former executive yuan director gen...\n",
      "740    the executive yuan yesterday approved two draf...\n",
      "285    chaz wing was 12 when they cornered him in the...\n",
      "693    the executive yuan yesterday approved two draf...\n",
      "294    chinese nationalist party kmt lawmakers yester...\n",
      "210    north korea observers have long marveled at th...\n",
      "735    a legislative review of draft acts to reform t...\n",
      "590    the executive yuan yesterday said 98 governmen...\n",
      "337    a shot from the point by washington s kevin sh...\n",
      "671    a welcome back how was your holiday in the phi...\n",
      "Name: article, dtype: object\n"
     ]
    }
   ],
   "source": [
    "# 所有文本清除後\n",
    "dftp['article'] = dftp['article'].apply(preprocessor)\n",
    "print(dftp['article'].head(20))"
   ]
  },
  {
   "cell_type": "code",
   "execution_count": 12,
   "metadata": {
    "collapsed": false
   },
   "outputs": [
    {
     "name": "stderr",
     "output_type": "stream",
     "text": [
      "/Library/Frameworks/Python.framework/Versions/3.5/lib/python3.5/site-packages/sklearn/cross_validation.py:44: DeprecationWarning: This module was deprecated in version 0.18 in favor of the model_selection module into which all the refactored classes and functions are moved. Also note that the interface of the new CV iterators are different from that of this module. This module will be removed in 0.20.\n",
      "  \"This module will be removed in 0.20.\", DeprecationWarning)\n"
     ]
    }
   ],
   "source": [
    "#將GEPT變成訓練集\n",
    "from sklearn.cross_validation import train_test_split\n",
    "\n",
    "X_train, X_test, y_train, y_test = train_test_split(\n",
    "    df.loc[:,'article'], df.loc[:, 'rating'], test_size=0, random_state=0)"
   ]
  },
  {
   "cell_type": "code",
   "execution_count": 13,
   "metadata": {
    "collapsed": false
   },
   "outputs": [
    {
     "data": {
      "text/plain": [
       "45     aluminum has many desirable qualities which ma...\n",
       "142    the san francisco city government is giving pe...\n",
       "193    yet even though you may be angry i would know ...\n",
       "153    china announced that it will formally begin is...\n",
       "240     everyone s realized the government has failed...\n",
       "179    the world has many different cultures each cul...\n",
       "277    number of visitors to the cableway to date the...\n",
       "92     in my opinion it s important not to take sides...\n",
       "74     until recently it had been generally accepted ...\n",
       "137    indonesian police posing as wildlife buyers ha...\n",
       "177    happy st patrick s day today is a national hol...\n",
       "37     harry woke up hungry last thursday because he ...\n",
       "282    each person has unique talents and potential t...\n",
       "106    the roc air force has purchased a new air forc...\n",
       "89     in public service lectures fire fighters not o...\n",
       "149    the architects of the european union set out d...\n",
       "6      mom johnny s mother doesn t have enough chairs...\n",
       "78      if you wanted to get students excited about t...\n",
       "49     if a typist wishes to type rapidly he must dev...\n",
       "281     to tell you the truth i think i work the same...\n",
       "187    esther hey wanna go to the movies with me on s...\n",
       "200    i m hoping the boy hesitated fumbling in his p...\n",
       "266    during a phenomenal senior season in which he ...\n",
       "21       my sister hates all bugs especially cockroaches\n",
       "113    the bookstore on the corner is known far and w...\n",
       "213    walter cronkite who died on july 17 became kno...\n",
       "73     if a typist wishes to type rapidly he must dev...\n",
       "306    several things still have to happen meanwhile ...\n",
       "107    this is to confirm my resignation from the pos...\n",
       "20     the martin family took a two week vacation las...\n",
       "                             ...                        \n",
       "150    there s a light at the end of the tunnel x and...\n",
       "243    to reach his room guan must climb a to the roo...\n",
       "58     a growing number of people around the world en...\n",
       "145    diver william bartlett had just started explor...\n",
       "138    former nazi ss officer oskar groening known as...\n",
       "121    david often drives carelessly and exceeds the ...\n",
       "120    never in my wildest dreams did i imagine that ...\n",
       "128    for thousands of years chinese artists have us...\n",
       "126    as you may have already noticed the new copy m...\n",
       "12     the boys are in school every day until four o ...\n",
       "262    fastball changeup or curve inside or outside h...\n",
       "88     on a tiny island just 5 1 2 miles long you can...\n",
       "86     the caribbean is a wonderful winter vacation a...\n",
       "87     after several years of falling sales burger ki...\n",
       "232    the new is bringing health care back to the fo...\n",
       "199    i hear you re going away for a year professor ...\n",
       "157    what do you do in your free time free time is ...\n",
       "129    one animal which has become extinct was once p...\n",
       "27     my mother does the housework during the week b...\n",
       "39     music town has finally arrived in taiwan don t...\n",
       "170    dungeness crab are forecast to take a hit from...\n",
       "278    the 65 passenger cable car runs from tafelberg...\n",
       "0      ruth needed a new notebook so she looked for a...\n",
       "66     after the police arrive they will begin to int...\n",
       "43     new computer technology has dramatically chang...\n",
       "290    the inclusivity began at the haggling stage wh...\n",
       "225    the higher the temperature the the linkages at...\n",
       "269    as they ucla waited on pins and needles in its...\n",
       "168    when merriam cooper was a boy he loved reading...\n",
       "104    the digital age is dawning and that s good new...\n",
       "Name: article, dtype: object"
      ]
     },
     "execution_count": 13,
     "metadata": {},
     "output_type": "execute_result"
    }
   ],
   "source": [
    "X_train"
   ]
  },
  {
   "cell_type": "code",
   "execution_count": 14,
   "metadata": {
    "collapsed": false
   },
   "outputs": [],
   "source": [
    "#將TaipeiTimes變成測試集\n",
    "from sklearn.cross_validation import train_test_split\n",
    "\n",
    "Xt_train, Xt_test, yt_train, yt_test = train_test_split(\n",
    "    dftp.loc[:,'article'], dftp.loc[:, 'rating'], test_size=0.99999999, random_state=0)"
   ]
  },
  {
   "cell_type": "code",
   "execution_count": 15,
   "metadata": {
    "collapsed": false
   },
   "outputs": [
    {
     "data": {
      "text/plain": [
       "580    an episode of joseph rosendo s travelscope fea...\n",
       "186    mysterious stone stacks that appeared in the g...\n",
       "624    lam wing kei the former manager of hong kong b...\n",
       "294    chinese nationalist party kmt lawmakers yester...\n",
       "477    the executive yuan yesterday approved two draf...\n",
       "521    major members of the formosa plastics group th...\n",
       "442    an episode of joseph rosendo s travelscope fea...\n",
       "359    when touring green island aside from the usual...\n",
       "361    an exchange of gunfire and a three hour stando...\n",
       "175    an exchange of gunfire and a three hour stando...\n",
       "404    before game 2 against the ottawa senators new ...\n",
       "697    when president tsai ing wen first started teac...\n",
       "412    japancarrier to deploy todaytokyo is to dispat...\n",
       "560    the technology for the urabat an ultrafast rec...\n",
       "389    a hacker claims to have followed through on a ...\n",
       "35     north korea observers have long marveled at th...\n",
       "244    this year s space out competition in seoul s h...\n",
       "234    us lawmakers yesterday unveiled a huge us 1 tr...\n",
       "549    the executive yuan yesterday approved a draft ...\n",
       "130    lei shih sheng one of only five arborists in t...\n",
       "188    more than 13 000 people have used the online p...\n",
       "542    the nation s economy started out moderately st...\n",
       "422    denying taiwan the right to participate in thi...\n",
       "687    the nation s economy started out moderately st...\n",
       "669    a joint research team from chang gung universi...\n",
       "661    lam wing kei the former manager of hong kong b...\n",
       "177    the philippines followed up an asean summit by...\n",
       "98     famed swiss climber ueli steck 40 was killed y...\n",
       "255    taiwan s notebook shipments in the first quart...\n",
       "512    new balance athletic shoe inc has won a rare l...\n",
       "                             ...                        \n",
       "471    the nation s economy started out moderately st...\n",
       "533    environmentalists attending a public forum hel...\n",
       "91     north korea observers have long marveled at th...\n",
       "770    two perry class guided missile frigates purcha...\n",
       "631    exports rose 9 4 percent to us 24 32 billion l...\n",
       "146    a media interview can be a double edged sword ...\n",
       "383    taiwanese entrepreneur matilda ho is out to ge...\n",
       "763    solar cell maker gintech energy corp yesterday...\n",
       "531    the technology for the urabat an ultrafast rec...\n",
       "408    thousands of people across the us on saturday ...\n",
       "613    matteo renzi staging a political comeback less...\n",
       "439    taiwan s notebook shipments in the first quart...\n",
       "633    china and the philippines have joined forces t...\n",
       "171    cedric alviani has returned to journalism afte...\n",
       "435    a regulation requiring that amateur radio oper...\n",
       "438    a legislative review of draft acts to reform t...\n",
       "22     taiwanese entrepreneur matilda ho is out to ge...\n",
       "374    more than 13 000 people have used the online p...\n",
       "207    two important bills have passed their third re...\n",
       "677    the ministry of economic affairs yesterday sai...\n",
       "532    money saved from getting rid of preferential s...\n",
       "273    rafael nadal on sunday hailed a dream start to...\n",
       "142    mass media company 21st century fox inc is in ...\n",
       "622    the us navy abandoned efforts to convict a tai...\n",
       "611    a legislative review of draft acts to reform t...\n",
       "600    the legislative yuan s plenary session hit a s...\n",
       "62     liberty times lt despite public opinion polls ...\n",
       "248    five people have been naturalized since the am...\n",
       "731    liberty times lt despite public opinion polls ...\n",
       "256    the functioning of the ministry of finance s o...\n",
       "Name: article, dtype: object"
      ]
     },
     "execution_count": 15,
     "metadata": {},
     "output_type": "execute_result"
    }
   ],
   "source": [
    "Xt_test"
   ]
  },
  {
   "cell_type": "code",
   "execution_count": 16,
   "metadata": {
    "collapsed": false
   },
   "outputs": [
    {
     "name": "stdout",
     "output_type": "stream",
     "text": [
      "Fitting 5 folds for each of 16 candidates, totalling 80 fits\n"
     ]
    },
    {
     "name": "stderr",
     "output_type": "stream",
     "text": [
      "/Library/Frameworks/Python.framework/Versions/3.5/lib/python3.5/site-packages/sklearn/grid_search.py:43: DeprecationWarning: This module was deprecated in version 0.18 in favor of the model_selection module into which all the refactored classes and functions are moved. This module will be removed in 0.20.\n",
      "  DeprecationWarning)\n",
      "[Parallel(n_jobs=-1)]: Done  42 tasks      | elapsed:    2.5s\n"
     ]
    },
    {
     "name": "stdout",
     "output_type": "stream",
     "text": [
      "Best parameter set: {'vect__tokenizer': <function tokenizer at 0x1066939d8>, 'vect__stop_words': ['i', 'me', 'my', 'myself', 'we', 'our', 'ours', 'ourselves', 'you', 'your', 'yours', 'yourself', 'yourselves', 'he', 'him', 'his', 'himself', 'she', 'her', 'hers', 'herself', 'it', 'its', 'itself', 'they', 'them', 'their', 'theirs', 'themselves', 'what', 'which', 'who', 'whom', 'this', 'that', 'these', 'those', 'am', 'is', 'are', 'was', 'were', 'be', 'been', 'being', 'have', 'has', 'had', 'having', 'do', 'does', 'did', 'doing', 'a', 'an', 'the', 'and', 'but', 'if', 'or', 'because', 'as', 'until', 'while', 'of', 'at', 'by', 'for', 'with', 'about', 'against', 'between', 'into', 'through', 'during', 'before', 'after', 'above', 'below', 'to', 'from', 'up', 'down', 'in', 'out', 'on', 'off', 'over', 'under', 'again', 'further', 'then', 'once', 'here', 'there', 'when', 'where', 'why', 'how', 'all', 'any', 'both', 'each', 'few', 'more', 'most', 'other', 'some', 'such', 'no', 'nor', 'not', 'only', 'own', 'same', 'so', 'than', 'too', 'very', 's', 't', 'can', 'will', 'just', 'don', 'should', 'now', 'd', 'll', 'm', 'o', 're', 've', 'y', 'ain', 'aren', 'couldn', 'didn', 'doesn', 'hadn', 'hasn', 'haven', 'isn', 'ma', 'mightn', 'mustn', 'needn', 'shan', 'shouldn', 'wasn', 'weren', 'won', 'wouldn'], 'clf__penalty': 'l2', 'vect__ngram_range': (1, 1), 'clf__C': 10.0} \n"
     ]
    },
    {
     "name": "stderr",
     "output_type": "stream",
     "text": [
      "[Parallel(n_jobs=-1)]: Done  80 out of  80 | elapsed:    4.7s finished\n"
     ]
    }
   ],
   "source": [
    "# 網格法搜尋最佳參數組合\n",
    "# TfidfVectorizer -> 字詞轉特徵值 與 計算TF-IDF\n",
    "from sklearn.grid_search import GridSearchCV\n",
    "from sklearn.pipeline import Pipeline\n",
    "from sklearn.linear_model import LogisticRegression\n",
    "from sklearn.feature_extraction.text import TfidfVectorizer\n",
    "\n",
    "tfidf = TfidfVectorizer(strip_accents=None, \n",
    "                        lowercase=False, \n",
    "                        preprocessor=None)\n",
    "\n",
    "param_grid = [{'vect__ngram_range': [(1,1)],\n",
    "               'vect__stop_words': [stop, None],\n",
    "               'vect__tokenizer': [tokenizer],\n",
    "               'clf__penalty': ['l1', 'l2'],\n",
    "               'clf__C': [1.0, 10.0]},\n",
    "              {'vect__ngram_range': [(1,1)],\n",
    "               'vect__stop_words': [stop, None],\n",
    "               'vect__tokenizer': [tokenizer],\n",
    "               'vect__use_idf':[False],\n",
    "               'vect__norm':[None],\n",
    "               'clf__penalty': ['l1', 'l2'],\n",
    "               'clf__C': [1.0, 10.0]},\n",
    "             ]\n",
    "\n",
    "lr_tfidf = Pipeline([('vect', tfidf),\n",
    "                     ('clf', LogisticRegression(random_state=0))])\n",
    "\n",
    "gs_lr_tfidf = GridSearchCV(lr_tfidf, param_grid, \n",
    "                           scoring='accuracy',\n",
    "                           cv=5, verbose=1,\n",
    "                           n_jobs=-1)\n",
    "\n",
    "gs_lr_tfidf.fit(X_train, y_train)\n",
    "# 最佳參數組合\n",
    "print('Best parameter set: %s ' % gs_lr_tfidf.best_params_)"
   ]
  },
  {
   "cell_type": "code",
   "execution_count": 17,
   "metadata": {
    "collapsed": false
   },
   "outputs": [
    {
     "name": "stdout",
     "output_type": "stream",
     "text": [
      "CV Accuracy: 0.802\n"
     ]
    }
   ],
   "source": [
    "# 訓練資料集的套用最佳參數組合\n",
    "print('CV Accuracy: %.3f' % gs_lr_tfidf.best_score_)"
   ]
  },
  {
   "cell_type": "code",
   "execution_count": 18,
   "metadata": {
    "collapsed": false
   },
   "outputs": [
    {
     "name": "stdout",
     "output_type": "stream",
     "text": [
      "Test Accuracy: 0.528\n"
     ]
    }
   ],
   "source": [
    "# 測試資料集套用最佳參數組合的正確率\n",
    "clf = gs_lr_tfidf.best_estimator_\n",
    "print('Test Accuracy: %.3f' % clf.score(Xt_test, yt_test))"
   ]
  },
  {
   "cell_type": "code",
   "execution_count": 19,
   "metadata": {
    "collapsed": true
   },
   "outputs": [],
   "source": [
    "import pickle #儲存訓練結果\n",
    "import os\n",
    "\n",
    "dest = os.path.join('ggept', 'pkl_objects')\n",
    "if not os.path.exists(dest):\n",
    "    os.makedirs(dest)\n",
    "\n",
    "pickle.dump(stop, open(os.path.join(dest, 'stopwords.pkl'), 'wb'), protocol=4)   \n",
    "pickle.dump(clf, open(os.path.join(dest, 'classifier.pkl'), 'wb'), protocol=4)"
   ]
  },
  {
   "cell_type": "code",
   "execution_count": null,
   "metadata": {
    "collapsed": false
   },
   "outputs": [],
   "source": []
  },
  {
   "cell_type": "code",
   "execution_count": null,
   "metadata": {
    "collapsed": false
   },
   "outputs": [],
   "source": []
  },
  {
   "cell_type": "code",
   "execution_count": 20,
   "metadata": {
    "collapsed": false
   },
   "outputs": [
    {
     "name": "stderr",
     "output_type": "stream",
     "text": [
      "/Library/Frameworks/Python.framework/Versions/3.5/lib/python3.5/site-packages/sklearn/learning_curve.py:23: DeprecationWarning: This module was deprecated in version 0.18 in favor of the model_selection module into which all the functions are moved. This module will be removed in 0.20\n",
      "  DeprecationWarning)\n"
     ]
    }
   ],
   "source": [
    "from matplotlib.colors import ListedColormap\n",
    "import matplotlib.pyplot as plt\n",
    "import warnings\n",
    "from sklearn.learning_curve import learning_curve\n",
    "\n",
    "\n",
    "\n",
    "#畫圖的function  plot_decision_regions\n",
    "def learnCurve(classifier,train_vector, y_train,title):\n",
    "    plt_title = title\n",
    "    train_sizes, train_scores, test_scores =\\\n",
    "                learning_curve(estimator=classifier, \n",
    "                X=train_vector, \n",
    "                y=y_train, \n",
    "                train_sizes=np.linspace(0.1, 1.0, 10), \n",
    "                cv=10,\n",
    "                n_jobs=1)\n",
    "        \n",
    "\n",
    "    train_mean = np.mean(train_scores, axis=1)\n",
    "    train_std = np.std(train_scores, axis=1)\n",
    "    test_mean = np.mean(test_scores, axis=1)\n",
    "    test_std = np.std(test_scores, axis=1)\n",
    "\n",
    "    plt.plot(train_sizes, train_mean,color='blue', marker='o',markersize=5, label='training accuracy')\n",
    "\n",
    "    plt.fill_between(train_sizes,train_mean + train_std,train_mean - train_std,alpha=0.15, color='blue')\n",
    "\n",
    "    plt.plot(train_sizes, test_mean,color='green', linestyle='--', marker='s', markersize=5,label='validation accuracy')\n",
    "\n",
    "    plt.fill_between(train_sizes,test_mean + test_std,test_mean - test_std, alpha=0.15, color='green')\n",
    "\n",
    "    plt.grid()\n",
    "    plt.xlabel('Number of training samples')\n",
    "    plt.ylabel('Accuracy')\n",
    "    plt.legend(loc='lower right')\n",
    "    plt.ylim([0.1, 1.0])\n",
    "    plt.tight_layout()\n",
    "    plt.title(plt_title)\n",
    "    # plt.savefig('./figures/learning_curve.png', dpi=300)"
   ]
  },
  {
   "cell_type": "code",
   "execution_count": 21,
   "metadata": {
    "collapsed": false
   },
   "outputs": [],
   "source": [
    "# Perform classification with LogisticRegression\n",
    "from sklearn.feature_extraction.text import TfidfVectorizer\n",
    "from sklearn import svm\n",
    "from sklearn.naive_bayes import MultinomialNB\n",
    "from sklearn.naive_bayes import BernoulliNB\n",
    "from sklearn.neighbors import KNeighborsClassifier\n",
    "from sklearn.linear_model import LogisticRegression\n",
    "from sklearn.metrics import classification_report\n",
    "from sklearn.metrics import accuracy_score\n",
    "from sklearn.learning_curve import learning_curve\n",
    "from sklearn.metrics import roc_auc_score, accuracy_score\n",
    "from sklearn.feature_extraction.text import TfidfVectorizer\n",
    "vectorizer=TfidfVectorizer(strip_accents=None, \n",
    "                        lowercase=False, \n",
    "                        preprocessor=None)\n",
    "train_vectors = vectorizer.fit_transform(X_train)\n",
    "test_vectors = vectorizer.fit_transform(Xt_test)\n",
    "\n",
    "import time\n",
    "classifier_Logistic = clf\n",
    "t0 = time.time()\n",
    "#Logistic_KNN = classifier_Logistic.fit(train_vectors, y_train)\n",
    "t1 = time.time()\n",
    "prediction_Logistic = classifier_Logistic.predict(Xt_test)\n",
    "prediction_Logistic_score = accuracy_score(yt_test, prediction_Logistic)  #評分方式 accuracy_score()\n",
    "t2 = time.time()\n",
    "time_Logistic_train = t1-t0\n",
    "time_Logistic_predict = t2-t1"
   ]
  },
  {
   "cell_type": "code",
   "execution_count": 22,
   "metadata": {
    "collapsed": false
   },
   "outputs": [
    {
     "name": "stdout",
     "output_type": "stream",
     "text": [
      "Results for LogisticRegression GEPT-Taipei Times\n",
      "Accuracy: 0.53\n",
      "Training time: 0.000069s; Prediction time: 1.112052s\n",
      "             precision    recall  f1-score   support\n",
      "\n",
      "          1       0.74      0.13      0.22       400\n",
      "          2       0.51      0.95      0.66       378\n",
      "\n",
      "avg / total       0.63      0.53      0.43       778\n",
      "\n"
     ]
    },
    {
     "data": {
      "image/png": "[encoded data removed]",
      "text/plain": [
       "<matplotlib.figure.Figure at 0x10d93f198>"
      ]
     },
     "metadata": {},
     "output_type": "display_data"
    }
   ],
   "source": [
    "print(\"Results for LogisticRegression GEPT-Taipei Times\")\n",
    "print('Accuracy: %.2f' % prediction_Logistic_score)\n",
    "print(\"Training time: %fs; Prediction time: %fs\" % (time_Logistic_train, time_Logistic_predict))\n",
    "print(classification_report(yt_test, prediction_Logistic))\n",
    "\n",
    "learnCurve(clf,X_train,y_train,'LogisticRegression Learning Curve')\n",
    "plt.show()"
   ]
  },
  {
   "cell_type": "code",
   "execution_count": null,
   "metadata": {
    "collapsed": true
   },
   "outputs": [],
   "source": []
  }
 ],
 "metadata": {
  "kernelspec": {
   "display_name": "Python 3",
   "language": "python",
   "name": "python3"
  },
  "language_info": {
   "codemirror_mode": {
    "name": "ipython",
    "version": 3
   },
   "file_extension": ".py",
   "mimetype": "text/x-python",
   "name": "python",
   "nbconvert_exporter": "python",
   "pygments_lexer": "ipython3",
   "version": "3.5.2"
  }
 },
 "nbformat": 4,
 "nbformat_minor": 1
}
